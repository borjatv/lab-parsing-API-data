{
 "cells": [
  {
   "cell_type": "markdown",
   "metadata": {},
   "source": [
    "# Challenge: Promotions\n",
    "\n",
    "In this challenge, you'll develop codes to parse and analyze data returned from another API on Zalando such as [Promos homme (Men's Promotions)\n",
    "](https://www.zalando.fr/promo-homme/) or [Promos femme (Women's Promotions)](https://www.zalando.fr/promo-femme/). The workflow is almost the same as in the guided lesson but you'll work with different data."
   ]
  },
  {
   "cell_type": "markdown",
   "metadata": {},
   "source": [
    "## Obtaining the link\n",
    "\n",
    "Wrote your codes in the cell below to obtain the data from the API endpoint you choose. A recap of the workflow:\n",
    "\n",
    "1. Examine the webpages and choose one that you want to work with.\n",
    "\n",
    "1. Use Google Chrome's DevTools to inspect the XHR network requests. Find out the API endpoint that serves data to the webpage.\n",
    "\n",
    "1. Test the API endpoint in the browser to verify its data.\n",
    "\n",
    "1. Change the page number offset of the API URL to test if it's working."
   ]
  },
  {
   "cell_type": "code",
   "execution_count": 4,
   "metadata": {},
   "outputs": [],
   "source": [
    "# your code here\n",
    "url = 'https://www.zalando.fr/api/catalog/articles'"
   ]
  },
  {
   "cell_type": "code",
   "execution_count": 9,
   "metadata": {},
   "outputs": [],
   "source": [
    "params_zal = {'categories': 'promo-homme',\n",
    "              'limit': '84',\n",
    "              'offset': '84'}"
   ]
  },
  {
   "cell_type": "code",
   "execution_count": 14,
   "metadata": {},
   "outputs": [],
   "source": [
    "headers_safari = {'User-Agent': 'Mozilla/5.0 (Macintosh; Intel Mac OS X 10_15_6) AppleWebKit/605.1.15 (KHTML, like Gecko) Version/14.0.3 Safari/605.1.15',\n",
    "    'Cookie': '_abck=D3A410542156C6446A65CE77A24C1962~-1~YAAQxvpxaKcGXWJ4AQAAlwrSYwV1UNJw/Lo5j9fZLikqmrMF0wSHif0NSyLELp/5uGpC1I8bZ4j6NECHzSIkazeyqYomY9in+u8pXWcMx9l8RftsuSuYjxPNiQNaui3Ny5ypA5rnKUFrmrRj/rlzKn9/ymy9hyKhsdwTOf4K89FFOdQan9FXDSYCgPQLJJd84Gva79fIiz/39ZgRFFRedWYrwEwZdq1VvE5jppoKPJ4HDVMvbuL7yk7BBW+QqZ9Id5JdHJfmXaW04uaC2zZf+OVCzx+cPnlz8ZaI1I5YO0XkrtujEn+Mw1panVu5Z7bJNFS/18OteWq2eh4OTsT78djxA8dS8V0PRx+/C5ZyQacV96sy6YE6099CG6nQvy2DJRhUONxAZt47BY826ACJ8Z5N+RJ2+apgz6gQE/t0tNMVhvVckk7UMJEUsbsAo+EnESa14GHV3NnVuQEB5tokuXfOZ06/JIAM~-1~-1~-1; Zalando-Client-Id=21c46254-40fc-44be-8f7e-b5740eeae773; _gat_zalga=1; bm_sv=FCE1A3F3B8D168898FAE490B0B094022~k9qt8e92MysEYyG7SZcdNF79Ynt/wNCbmOZ52ojVgRLEnNbWc/6q7xqs289Q/jo/Gk6IrKICLz07LI3GmqoFDRjfAJcslncOhiWXOKY0/qD6Y8Odr4RV6N2+S7JStdBnzmtyQh8c7U5NtCYhUSAAtGJN9ILdgnburXiNEBC7LuA=; _fbp=fb.1.1616582164479.1495405834; _ga=GA1.2.1536409037.1616582164; _gid=GA1.2.839128922.1616582164; ncx=k; _gcl_au=1.1.742902882.1616582164; sqt_cap=1616582151909; ak_bmsc=766A961EE4C14F7277332106EE3F0DCA~000000000000000000000000000000~YAAQ3fpxaIzjCWN4AQAAOdjNYwvvSwfDgE1+5V2juJ7/mZkg6Bd7wihnfCLEorkfGgxjGN5SxGt065fQEk5RqTuxcsjyLJher9bqxmzSdNSLslqekKF8O5T2BfZgihTBwSoeKWYfFwL3xLrvRV9QfJZpjSoP2fzn6qozrWhVvpNOnKnv3nf9d5vKnVLZvaUIJAp8yTaNxNKEds0r/aWFUM6bZhmVQ5RLBiuLzCXAT7jxbDhwyCS+uR9gtjSByzaLvYZwTafqXkprQNuUaY2xhtMLjsmfL78SBSnphQB9/9UlNiR7Vos7TGck4O7urhzoSic7EugdPokaEqQDoMN5VU2ajCj4rEKPPpihVlcBLFnQzBVueJdB8XWy7+Xc9NHjfoDcGBdMoWZlyAvl1STrhPDki8A3sTgCHMTG; fvgs_ml=mosaic; mpulseinject=false; bm_mi=B6F83C97ED5197A331B2167F3E9956B6~MaZrsGu9c98o83p/vhe/baeVDE7352agv4bKGXzvUTWW7Ny3yCvJew3JZ4R9h7gj7AwM21xupqQqw9PsWlcwAvCLIo+dciH4Esl4jWnYP/ED1bC8P3a3IItU83J22ek5HfEKnY/7HjfrvxFfrUArSneLZHGosFzNVxK32Pqg2VuOdfO9+ZbjmB2uYRRd3tpWUqBpVbQMzqhTiqXIPjUswtKUx5gWlW98nMcXDV0+edPZnuVPIipnlIFlf3mgjxwZIACom3CFipE7bQ2MSisaqQ==; bm_sz=005A1A795BE0753193A0DB3DC9FEADA3~YAAQRn8WAo24dGB4AQAAkpLNYwtvecQaL6naJJsQc+TajVbV1gwfbqK4vuGFLpX027ODDw41e+fwgufE8yO1otUMoU1Sb+5+yv3yDfW9WC9o5ILEVwhhiK7Hn0knSN3oPCk/Tj2GbIUNaajH+k1AwuSzZQemk0ghBEznM23uFftp77GqkW1LATfuNMWri8s78EjuyaFuMeF2ITCsHLmI1hdkpKbvkDDhzfhn2qdPifLn6GwWauJagufpwsOVdXWgR9qposnSWiSa8d8QitBsbQs1lm/v1wYXiiuo98cgdaw=; frsx=AAAAAIBbvAVqZJCEK0yUBKDVtRtYUfe3udRw3cWp9ervTdeUs0w7yWGO6vPp7jXpuOryCaKex_X_6F8tcQzWXIDHDTLiYOkygwBr6xoXTNY_NwdokXNH6VNW82y6zlNp0l8BlCSixYKqmdwXjojkps4='\n",
    "}"
   ]
  },
  {
   "cell_type": "markdown",
   "metadata": {},
   "source": [
    "## Reading the data\n",
    "\n",
    "In the next cell, use Python to obtain data from the API endpoint you chose in the previous step. Workflow:\n",
    "\n",
    "1. Import libraries.\n",
    "\n",
    "1. Define the initial API endpoint URL.\n",
    "\n",
    "1. Make request to obtain data of the 1st page. Flatten the data and store it in an empty object variable.\n",
    "\n",
    "1. Find out the total page count in the 1st page data.\n",
    "\n",
    "1. Use a FOR loop to make requests for the additional pages from 2 to page count. Append the data of each additional page to the flatterned data object.\n",
    "\n",
    "1. Print and review the data you obtained."
   ]
  },
  {
   "cell_type": "code",
   "execution_count": 2,
   "metadata": {},
   "outputs": [],
   "source": [
    "import json\n",
    "import requests\n",
    "import pandas as pd\n",
    "from pandas.io.json import json_normalize"
   ]
  },
  {
   "cell_type": "code",
   "execution_count": 15,
   "metadata": {},
   "outputs": [],
   "source": [
    "resp = requests.get(url, headers = headers_safari, params = params_zal)"
   ]
  },
  {
   "cell_type": "code",
   "execution_count": 16,
   "metadata": {},
   "outputs": [
    {
     "data": {
      "text/plain": [
       "200"
      ]
     },
     "execution_count": 16,
     "metadata": {},
     "output_type": "execute_result"
    }
   ],
   "source": [
    "resp.status_code"
   ]
  },
  {
   "cell_type": "code",
   "execution_count": 18,
   "metadata": {},
   "outputs": [
    {
     "data": {
      "text/plain": [
       "'<!DOCTYPE html>\\n<html>\\n  <head>\\n    <link\\n      rel=\"shortcut icon\"\\n      href=\"data:image/png;base64,iVBORw0KGgoAAAANSUhEUgAAABMAAAAUCAYAAABvVQZ0AAAAAXNSR0IArs4c6QAAAAlwSFlzAAAOxAAADsQBlSsOGwAAActpVFh0WE1MOmNvbS5hZG9iZS54bXAAAAAAADx4OnhtcG1ldGEgeG1sbnM6eD0iYWRvYmU6bnM6bWV0YS8iIHg6eG1wdGs9IlhNUCBDb3JlIDUuNC4wIj4KICAgPHJkZjpSREYgeG1sbnM6cmRmPSJodHRwOi8vd3d3LnczLm9yZy8xOTk5LzAyLzIyLXJkZi1zeW50YXgtbnMjIj4KICAgICAgPHJkZjpEZXNjcmlwdGlvbiByZGY6YWJvdXQ9IiIKICAgICAgICAgICAgeG1sbnM6eG1wPSJodHRwOi8vbnMuYWRvYmUuY29tL3hhcC8xLjAvIgogICAgICAgICAgICB4bWxuczp0aWZmPSJodHRwOi8vbnMuYWRvYmUuY29tL3RpZmYvMS4wLyI+CiAgICAgICAgIDx4bXA6Q3JlYXRvclRvb2w+d3d3Lmlua3NjYXBlLm9yZzwveG1wOkNyZWF0b3JUb29sPgogICAgICAgICA8dGlmZjpPcmllbnRhdGlvbj4xPC90aWZmOk9yaWVudGF0aW9uPgogICAgICA8L3JkZjpEZXNjcmlwdGlvbj4KICAgPC9yZGY6UkRGPgo8L3g6eG1wbWV0YT4KGMtVWAAAAZRJREFUOBGlVDtIA0EQfXNGFMVKKysr7S0EwUIbwfSCtQlqUCzEQlCsDKSz0ESx0cZKweKwCigiIlqIhUhMJQgWYhqLaJGwvklyuUTy8+7BMLOz897t7N6uoAQTwQbDMM2iPcPgFm2wJY6HUklTJ1ph5hGkxHmd6jQECQofyg6+6tQU0kWxCK45GmtUyLkMRWPIYleO8FOrVswS+pHHGye1vVaQZlFY9goLqKq3kMMEM60KKXmQdmUWsGWm2XwFLMqMVIxbDYUtr6MPtllFt0OyeGpDzsCDn+IeJs0sepSr7Q1o4BkGo+jAqZlDu4r1ehZyiZNc1rKKdbk5H5FgTcWMDwmXKsirWNbN+IgMohaPOONDwqHa+ERCf41XJ+PRX/IGzchJsc2URxGwqzN8IygHxa0KcGV3TP4XORI2+ZbESC0fYIDJC1qeVnXPOK6HJ9JDso/7vwUWkx9M6hPUDO/sYJGfHa4lpGRdmSJKG9egBh6Zi6MTx7LNHWqA8m7x2V5hXYhf1xNO0d/Q23y3Xhrwq6Z+ARJnWqvThpH5AAAAAElFTkSuQmCC\"\\n    />\\n    <meta charset=\"utf-8\" />\\n    <meta http-equiv=\"X-UA-Compatible\" content=\"IE=edge\" />\\n    <title>ZALANDO</title>\\n    <meta name=\"viewport\" content=\"width=device-width, initial-scale=1\" />\\n    <style>\\n      html,\\n      body {\\n        padding: 0;\\n        margin: 0;\\n        height: 100%;\\n      }\\n      header {\\n        height: 90px;\\n        display: block;\\n        text-align: center;\\n      }\\n      header svg {\\n        padding-top: 30px;\\n      }\\n      .reference {\\n        color: #ff6900;\\n        font-size: 12px;\\n        font-weight: bold;\\n      }\\n      .z-500-error-page {\\n        display: flex;\\n        align-items: center;\\n        justify-content: center;\\n        font-family: ArialMT, Arial, Helvetica, sans-serif;\\n        color: #1a1a1a;\\n        background-color: #f7f7f7;\\n        min-height: 600px;\\n        height: calc(100% - 92px);\\n      }\\n      main {\\n        padding-top: 40px;\\n        text-align: center;\\n      }\\n      .z-500-error-page svg {\\n        margin: 0 auto 39px;\\n      }\\n      .z-500-error-page h1 {\\n        margin: 0 auto;\\n        margin-bottom: 20px;\\n        font-size: 34px;\\n        width: 60%;\\n      }\\n      .z-500-error-page p {\\n        font-size: 16px;\\n        margin: 0 auto 37px;\\n        line-height: 1.5;\\n        letter-spacing: 0.7px;\\n        max-width: 660px;\\n      }\\n      .z-500-error-page a {\\n        margin: 0 9px;\\n        padding: 15px 50px;\\n        display: inline-block;\\n        color: white;\\n        background: black;\\n        font-size: 14px;\\n        font-weight: 700;\\n        text-align: center;\\n        text-decoration: none;\\n        letter-spacing: 0.5px;\\n        cursor: pointer;\\n        border: 2px solid #000;\\n        position: relative;\\n        min-width: 135px;\\n        box-sizing: border-box;\\n        border-radius: 5px;\\n      }\\n      .z-500-error-page a:before {\\n        content: \"\";\\n        position: absolute;\\n        top: 0;\\n        bottom: 0;\\n        left: 0;\\n        width: 0;\\n        background-color: #000;\\n        -o-transition: width 0.3s ease 0s;\\n        -moz-transition: width 0.3s ease 0s;\\n        -webkit-transition: width 0.3s ease 0s;\\n        transition: width 0.3s ease 0s;\\n        z-index: -1;\\n      }\\n      .z-500-error-page a:hover {\\n        -o-transition: color 0.3s ease 0s;\\n        -moz-transition: color 0.3s ease 0s;\\n        -webkit-transition: color 0.3s ease 0s;\\n        transition: color 0.3s ease 0s;\\n      }\\n      .z-500-error-page a:hover:before {\\n        width: 100%;\\n      }\\n      @media screen and (max-width: 599px) {\\n        .z-500-error-page {\\n          padding: 30px 20px 50px;\\n        }\\n        .z-500-error-page h1 {\\n          font-size: 24px;\\n        }\\n        .z-500-error-page a {\\n          display: block;\\n          margin: 28px auto;\\n          width: 80%;\\n        }\\n      }\\n      .z-500-error-page [lang] {\\n        display: none;\\n      }\\n    </style>\\n  </head>\\n  <body>\\n    <header>\\n      <svg width=\"160\" viewBox=\"0 0 99 20\" xmlns=\"http://www.w3.org/2000/svg\">\\n        <title>zalando_logo_20</title>\\n        <g fill=\"none\" fill-rule=\"evenodd\">\\n          <path\\n            d=\"M43.21 4.944c-.715-.398-1.777-.593-3.248-.593-2.012.002-3.88.426-4.586.693-.16.052-.33.192-.334.43v.054l.2 1.016.004.02c.062.205.232.3.385.3h.003c.05-.004.088-.014.124-.023l.335-.08c.877-.22 2.202-.558 3.68-.558.898 0 1.5.08 1.905.252.656.253.66.684.667 1.397v1.067c-.075-.002-.202-.003-.397-.003-.725 0-2.15.035-3.55.262-2.138.334-3.907.853-3.895 3.845 0 3.798 3.47 3.804 5.136 3.808 1.13-.002 2.175-.172 2.858-.314 1.555-.367 1.953-.868 1.932-2.437V7.763c0-.964.004-2.162-1.22-2.82zm-.855 9.753c-.828.273-1.734.41-2.694.41v.09-.09c-1.534-.012-3.03-.19-3.033-2.175.01-1.58.84-1.767 1.89-2.005l.073-.017c.934-.203 3.282-.24 3.765-.246v4.033zm19.41-6.935v6.314c.02 1.57-.377 2.07-1.933 2.437-.68.143-1.725.313-2.857.314-1.666-.004-5.135-.01-5.136-3.807-.013-2.99 1.756-3.51 3.894-3.844 1.4-.228 2.826-.263 3.55-.263.196 0 .322.002.4.003V7.85c-.008-.713-.013-1.143-.668-1.396-.404-.174-1.008-.252-1.906-.252-1.48 0-2.804.336-3.68.558l-.334.08c-.036.01-.075.02-.125.02-.154 0-.323-.092-.386-.3l-.005-.018-.2-1.016v-.053c.004-.238.174-.38.333-.43.708-.267 2.574-.692 4.587-.693 1.47 0 2.533.195 3.247.594 1.223.657 1.22 1.855 1.218 2.818zm-2.07 2.902c-.486.005-2.83.043-3.766.246l-.075.017c-1.05.238-1.88.425-1.89 2.005.002 1.985 1.5 2.164 3.034 2.175v.09-.09c.96 0 1.866-.137 2.694-.41v-4.033zM93.172 4.35c-4.83.008-5.24 3.23-5.245 6.25.005 3.01.414 6.22 5.245 6.227 4.827-.008 5.238-3.21 5.245-6.228-.005-3.16-.414-6.242-5.245-6.25zm0 10.715c-2.93-.014-3.077-1.54-3.097-4.464.02-2.938.167-4.473 3.096-4.486 2.93.013 3.078 1.548 3.098 4.485-.02 2.924-.168 4.45-3.097 4.465zm-8.67 1.318l-.125.032c-.675.174-1.6.412-3.222.412h-.004c-4.472-.008-5.348-2.297-5.353-6.25.004-4.532 1.42-6.22 5.22-6.226 1.342 0 2.267.177 2.93.34l-.004-3.652c-.005-.16.065-.37.438-.442l1.188-.308h.065c.273.007.37.253.37.463v13.72c.018.868-.083 1.61-1.503 1.913zm-.557-9.936c-.396-.102-1.503-.356-2.75-.356-2.288.023-3.25.654-3.272 4.51.027 4.235 1.268 4.465 3.293 4.485v.09-.09c1.26 0 2.342-.267 2.728-.373V6.447zM73.276 16.54h-1.06c-.287 0-.5-.218-.5-.507v-8.14c-.02-1.376-.427-1.76-1.887-1.78-1.652 0-3.325.422-3.876.574v9.347c0 .293-.2.507-.477.507h-1.085c-.285 0-.5-.218-.5-.506v-9.13c-.015-.844.062-1.428 1.247-1.818 1.133-.397 3.3-.734 4.735-.735 2.73.004 3.895 1.005 3.9 3.346v8.338c0 .288-.215.506-.5.506zm-24.053.22c.612-.013 1.062-.134 1.24-.336.062-.07.09-.154.083-.235-.004-.068-.004-.068-.17-.864l-.005-.02c-.036-.207-.18-.302-.302-.302h-.018S49.898 15 49.746 15c-.436-.014-.797-.08-.804-.724V.75c0-.224-.134-.455-.39-.46h-.077l-1.19.31c-.202.02-.414.167-.404.438v13.28c.003 1.572.835 2.44 2.342 2.443zm-16.798-.22h-8.522c-.285 0-.5-.218-.5-.507v-1.056c-.005-.26.076-.373.234-.572L30.42 6.4h-6.647c-.285 0-.5-.22-.5-.508v-.748c0-.29.216-.507.5-.507h8.61c.283 0 .497.218.498.507v1.078c.005.195-.06.36-.215.534l-6.8 8.022h6.56c.284 0 .498.218.5.507v.75c-.002.287-.216.505-.5.505z\"\\n            fill=\"#1D1D1B\"\\n          />\\n          <path\\n            d=\"M3.968 19.895c-.723 0-1.125-.172-1.34-.297-.297-.174-.844-.617-1.335-1.927C.506 15.57.04 13.004.02 9.99v-.01C.04 6.96.506 4.395 1.293 2.293 1.783.984 2.33.54 2.63.367 2.842.24 3.243.07 3.965.07c.276 0 .6.025.976.086 2.186.36 4.607 1.233 7.19 2.723l.008.004c2.562 1.526 4.518 3.217 5.917 4.96.873 1.088.977 1.79.977 2.138 0 .348-.104 1.052-.977 2.138-1.4 1.743-3.355 3.435-5.917 4.96l-.01.006c-2.58 1.49-5.002 2.363-7.188 2.722-.377.063-.7.087-.974.087\"\\n            fill=\"#FF6900\"\\n          />\\n        </g>\\n      </svg>\\n    </header>\\n\\n    <div class=\"z-500-error-page\">\\n      <main>\\n        <svg\\n          xmlns=\"http://www.w3.org/2000/svg\"\\n          xmlns:xlink=\"http://www.w3.org/1999/xlink\"\\n          width=\"120\"\\n          viewBox=\"0 0 663 735\"\\n        >\\n          <defs>\\n            <path id=\"a\" d=\"M.7.6h0zm0 0h0z\" />\\n            <path\\n              id=\"c\"\\n              d=\"M.299.6c.465.432.621.72.623.865C.92 1.32.764 1.032.299.6zm.623.865C.924 1.757.299 1.468.299.6c0 .868.625 1.157.623.865z\"\\n            />\\n            <path id=\"e\" d=\"M.6.8C2 2.2 2 2.2.6.8 2 2.2 2 2.2.6.8z\" />\\n            <path\\n              id=\"g\"\\n              d=\"M2.1 3.6C.711 2.31.7.922.7.9c0 1.4 0 1.4 1.4 2.7z\"\\n            />\\n            <path id=\"i\" d=\"M1 4.7V.6v4.1z\" />\\n            <path\\n              id=\"k\"\\n              d=\"M1.379 1.579C1.293 1.406 1.206.2 0 .2l1.379 1.379z\"\\n            />\\n            <path id=\"m\" d=\"M1.6 2.2C1.6.8 1.6.8.2.8l1.4 1.4z\" />\\n            <path id=\"o\" d=\"M.7 11.7L19.8.9.7 11.7z\" />\\n            <path id=\"q\" d=\"M0 .35h662V584H0z\" />\\n          </defs>\\n          <g fill=\"none\" fill-rule=\"evenodd\">\\n            <path fill=\"#101010\" d=\"M26.4 337.705l336.8 187.9z\" />\\n            <path\\n              fill=\"#303030\"\\n              d=\"M661 361.305c.2.4.4.7.5 1.1-.1-.4-.3-.7-.5-1.1M659.3 358.105c.3.4.6.7.9 1.2-.3-.5-.6-.8-.9-1.2M656.9 355.605c.4.3.9.6 1.2 1-.4-.4-.8-.7-1.2-1\"\\n            />\\n            <path\\n              fill=\"#BCCDCC\"\\n              d=\"M660.2 359.305c.4.6.6 1.3.9 2-.3-.7-.5-1.4-.9-2M661.5 362.405c.3 1.1.5 2.3.5 3.5 0-1.2-.2-2.4-.5-3.5M658.1 356.505c.5.5.8 1 1.2 1.5-.4-.4-.7-1-1.2-1.5M655.5 354.505s-.1 0-.1-.1c.6.3 1 .8 1.5 1.1-.5-.3-.9-.7-1.4-1M655.2 377.405l-6.4 3.6-13.2 7.4-246 137.2v194.9c0 4.7-2.5 9-6.5 11.4-.7.4-1.5.7-2.3 1 .7-.2 1.4-.4 2-.8l272.4-152c4.2-2.3 6.8-6.7 6.8-11.5v-202.7c0 4.8-2.6 9.2-6.8 11.5M403.6 311.805l-125.2-72.3c-13.6-7.8-34.2-8.6-46.7-1.4l-26.3 15.2 8.7 4.8c1.5.8 2.5 2.1 3.3 3.5 1.4 2.6 1.7 5.8.1 8.6-1.6 2.9-4.7 4.6-7.8 4.6-1.5 0-2.9-.4-4.3-1.1l-4.5-2.5-13.4-7.5-40 23.1c-7.9 4.5-12.4 11.8-12.4 19.8 0 8.8 5.4 16.9 14.8 22.4l125.2 72.3c7.3 4.2 16.3 6.5 25.5 6.5 8 0 15.3-1.8 21.1-5.1l56.4-32.6-9-5c-1.4-.8-2.4-2-3.2-3.3-1.6-2.6-1.9-6-.3-8.8 2.4-4.3 7.8-5.8 12.1-3.4l4.8 2.7 13.4 7.5 9.9-5.7c7.9-4.5 12.4-11.8 12.4-19.8.1-9-5.2-17.1-14.6-22.5zm-184.9 11.9c-3.1 0-6.1-1.6-7.7-4.4-2.4-4.3-1-9.7 3.3-12.1l48.6-28c4.3-2.5 9.7-1 12.1 3.3 2.4 4.3 1 9.7-3.2 12.1l-48.6 28c-1.5.7-3 1.1-4.5 1.1zm38.2 18.3c-1.4.8-2.9 1.2-4.4 1.2-3.1 0-6.1-1.6-7.7-4.4-2.5-4.3-1-9.7 3.2-12.1l48.6-28c4.3-2.5 9.7-1 12.1 3.2 2.5 4.3 1 9.7-3.2 12.1l-48.6 28zm82.3-8.5l-48.6 28c-1.4.8-2.9 1.2-4.4 1.2-3.1 0-6.1-1.6-7.7-4.4-2.5-4.3-1-9.7 3.2-12.1l48.6-28c4.3-2.4 9.7-1 12.1 3.3 2.5 4.1 1.1 9.5-3.2 12z\"\\n            />\\n            <path fill=\"#303030\" d=\"M496.3 435.905l18.2-10.2z\" />\\n            <path\\n              fill=\"#1B2717\"\\n              d=\"M274.9 282.305c-2.4-4.3-7.9-5.7-12.1-3.3l-48.6 28c-4.3 2.5-5.7 7.9-3.3 12.1 1.6 2.9 4.6 4.4 7.7 4.4 1.5 0 3-.4 4.4-1.2l48.6-28c4.3-2.3 5.8-7.7 3.3-12M308.7 301.805c-2.4-4.3-7.9-5.7-12.1-3.3l-48.6 28c-4.3 2.5-5.7 7.9-3.3 12.1 1.6 2.9 4.6 4.4 7.7 4.4 1.5 0 3-.4 4.4-1.2l48.6-28c4.3-2.3 5.7-7.7 3.3-12M330.3 318.105l-48.6 28c-4.3 2.5-5.7 7.9-3.2 12.1 1.6 2.9 4.6 4.4 7.7 4.4 1.5 0 3-.4 4.4-1.2l48.6-28c4.3-2.5 5.7-7.9 3.3-12.1-2.5-4.2-7.9-5.7-12.2-3.2\"\\n            />\\n            <g transform=\"translate(599 329.705)\">\\n              <mask id=\"b\" fill=\"#fff\"><use xlink:href=\"#a\" /></mask>\\n              <path\\n                fill=\"#333\"\\n                d=\"M-67.3 68.599H69.6V-67.3H-67.3z\"\\n                mask=\"url(#b)\"\\n              />\\n            </g>\\n            <g transform=\"translate(598 325.705)\">\\n              <mask id=\"d\" fill=\"#fff\"><use xlink:href=\"#c\" /></mask>\\n              <path\\n                fill=\"#333\"\\n                d=\"M-67.6 69.5H68.9V-67.4H-67.6z\"\\n                mask=\"url(#d)\"\\n              />\\n            </g>\\n            <g transform=\"translate(595 322.705)\">\\n              <mask id=\"f\" fill=\"#fff\"><use xlink:href=\"#e\" /></mask>\\n              <path\\n                fill=\"#333\"\\n                d=\"M-67.4 69.8H69.499V-67.1H-67.4z\"\\n                mask=\"url(#f)\"\\n              />\\n            </g>\\n            <g transform=\"translate(599 326.705)\">\\n              <mask id=\"h\" fill=\"#fff\"><use xlink:href=\"#g\" /></mask>\\n              <path\\n                fill=\"#C8D2D1\"\\n                d=\"M-67.3 71.6H70V-67H-67.3z\"\\n                mask=\"url(#h)\"\\n              />\\n            </g>\\n            <g transform=\"translate(600 329.705)\">\\n              <mask id=\"j\" fill=\"#fff\"><use xlink:href=\"#i\" /></mask>\\n              <path\\n                fill=\"#C8D2D1\"\\n                d=\"M-66.9 72.7H68.999v-140H-66.9z\"\\n                mask=\"url(#j)\"\\n              />\\n            </g>\\n            <g transform=\"translate(597 324.705)\">\\n              <mask id=\"l\" fill=\"#fff\"><use xlink:href=\"#k\" /></mask>\\n              <path\\n                fill=\"#C8D2D1\"\\n                d=\"M-68 69.5H69.3V-67.8H-68z\"\\n                mask=\"url(#l)\"\\n              />\\n            </g>\\n            <g transform=\"translate(594 322.705)\">\\n              <mask id=\"n\" fill=\"#fff\"><use xlink:href=\"#m\" /></mask>\\n              <path\\n                fill=\"#C8D2D1\"\\n                d=\"M-67.7 70.2H69.601V-67.1H-67.7z\"\\n                mask=\"url(#n)\"\\n              />\\n            </g>\\n            <g transform=\"translate(497 428.705)\">\\n              <mask id=\"p\" fill=\"#fff\"><use xlink:href=\"#o\" /></mask>\\n              <path\\n                fill=\"#333\"\\n                d=\"M-67.2 79.7H87.7V-67.1H-67.2z\"\\n                mask=\"url(#p)\"\\n              />\\n            </g>\\n            <g>\\n              <path\\n                fill=\"#303030\"\\n                d=\"M588.65 319.761l18.865 9.194-.844 16.85-26.045-19.013 7.602-6.315zM214.1 258.005l-8.6-4.8-17.9 10.4 13.4 7.5 4.5 2.5c1.4.8 2.9 1.1 4.3 1.1 3 0 6-1.6 7.7-4.6 1.6-2.8 1.3-6-.1-8.6-.8-1.4-1.8-2.7-3.3-3.5\"\\n              />\\n              <g transform=\"translate(0 149.705)\">\\n                <mask id=\"r\" fill=\"#fff\"><use xlink:href=\"#q\" /></mask>\\n                <path\\n                  fill=\"#303030\"\\n                  d=\"M514.5 276l2.44 1.365-.044.03-2.446-1.367.05-.028-118.4-66.1-13.4-7.5-4.8-2.7c-4.3-2.4-9.7-.9-12.1 3.4-1.6 2.9-1.3 6.2.3 8.8.8 1.3 1.8 2.5 3.2 3.3l8.935 5.079-.035.02 4.04 2.257 113.91 63.616-.05.028.15.083L376.4 353 40.3 165.5l-1.782-.995.057-.02L40.4 165.5l119.85-66.872L187.5 113.9l17.9-10.4-27-15-18.15 10.072-.05-.028L178.4 88.4 159.7 78a8.941 8.941 0 0 0-4.16-1.137A8.93 8.93 0 0 1 159.9 78l18.7 10.4 107.2-59.8 335.9 187.6L514.5 276zM363.2 548.3v.309-.31L26.4 360.4V188l336.8 187.9v172.4zm26.4-177.032v4.532l246-137.2 13.2-7.4 6.4-3.6c4.2-2.3 6.8-6.7 6.8-11.5 0-1.1-.2-2.3-.5-3.4-.1-.4-.3-.7-.5-1.1-.3-.7-.5-1.4-.9-2l-.9-1.2c-.4-.5-.7-1.1-1.2-1.6-.4-.4-.8-.6-1.2-1-.5-.4-1-.8-1.5-1.1L292 2c-4-2.2-8.8-2.2-12.9 0L6.8 154l-.1.1c-.6.3-1 .8-1.5 1.1-.4.3-.9.6-1.2 1-.5.5-.8 1-1.2 1.5-.3.4-.6.7-.9 1.2-.4.6-.6 1.3-.9 2-.1.4-.4.7-.5 1.1-.3 1.1-.5 2.3-.5 3.5v202.6c0 4.8 2.6 9.2 6.8 11.5l361.596 201.705c.415.32.848.622 1.304.895.7.4 1.5.7 2.3 1 .4.1.7.3 1 .4 1.1.3 2.2.4 3.4.4 1.2 0 2.3-.2 3.4-.4.4-.1.7-.3 1-.4.8-.3 1.6-.5 2.3-1 4-2.4 6.5-6.7 6.5-11.4V375.9l-.997.558v-.001l.998-.557v-4.632z\"\\n                  mask=\"url(#r)\"\\n                />\\n              </g>\\n              <path\\n                fill=\"#F15F35\"\\n                d=\"M587.735 89.904l45.195-45.195c9.964-9.964 9.964-26.27 0-36.233l-.003-.002c-9.963-9.964-26.268-9.964-36.232 0L551.5 53.669 506.304 8.474c-9.964-9.964-26.268-9.964-36.232 0l-.002.002c-9.964 9.964-9.964 26.269 0 36.233l45.195 45.195-45.195 45.195c-9.964 9.964-9.964 26.269 0 36.233l.002.002c9.964 9.964 26.268 9.964 36.232 0l45.196-45.195 45.195 45.195c9.964 9.964 26.27 9.964 36.232 0l.003-.002c9.964-9.964 9.964-26.27 0-36.233l-45.195-45.195z\"\\n              />\\n            </g>\\n          </g>\\n        </svg>\\n\\n        <section lang=\"en\">\\n          <h1>Letâ\\x80\\x99s face it, error pages will never go out of style.</h1>\\n          <p class=\"reference\">Reference ID: 18.d6fa7168.1616708961.2091d81</p>\\n          <p>\\n            Our website is currently unavailable. You probably know the drill:\\n            try refreshing the page in a minute or two. Still not working? Send\\n            us a short message via the error report button and we will take a\\n            closer look.\\n          </p>\\n          <a class=\"send-mail\">Send error report</a>\\n        </section>\\n\\n        <section lang=\"it\">\\n          <h1>Pagina di errore. Mai fuori moda.</h1>\\n          <p class=\"reference\">ID del riferimento: 18.d6fa7168.1616708961.2091d81</p>\\n          <p>\\n            Si Ã¨ verificato un problema con la nostra pagina: prova a\\n            ricaricarla tra qualche minuto. La pagina non funziona ancora?\\n            Segnalacelo attraverso il tasto report e verificheremo il problema.\\n          </p>\\n          <a class=\"send-mail\">Fehler melden</a>\\n        </section>\\n\\n        <section lang=\"ch\">\\n          <h1></h1>\\n          <p class=\"reference\">ID del riferimento: 18.d6fa7168.1616708961.2091d81</p>\\n          <p>\\n            Si Ã¨ verificato un problema con la nostra pagina: prova a\\n            ricaricarla tra qualche minuto. La pagina non funziona ancora?\\n            Segnalacelo attraverso il tasto report e verificheremo il problema.\\n          </p>\\n          <a class=\"send-mail\">ID del riferimento: 18.d6fa7168.1616708961.2091d81</a>\\n        </section>\\n\\n        <section lang=\"de\">\\n          <h1>Fehlerseiten kommen irgendwie auch nie aus der Mode.</h1>\\n          <p class=\"reference\">Referenz-ID: 18.d6fa7168.1616708961.2091d81</p>\\n          <p>\\n            Unsere Website ist derzeit nicht erreichbar. Das kennst du jetzt\\n            sicher, aber: Versuch es einfach in ein paar Minuten noch einmal.\\n            Sollten wir fÃ¼r dich schon lÃ¤nger nicht erreichbar sein, schreib uns\\n            eine kurze Nachricht Ã¼ber den Fehler-melden-Knopf und wir schauen\\n            uns das genauer an.\\n          </p>\\n          <a class=\"send-mail\">Fehler melden</a>\\n        </section>\\n\\n        <section lang=\"es\">\\n          <h1>PÃ¡gina de error, todo un clÃ¡sico.</h1>\\n          <p class=\"reference\">ID de referencia: 18.d6fa7168.1616708961.2091d81</p>\\n          <p>\\n            Hemos encontrado un problema en nuestra pÃ¡gina: actualÃ\\xadzala en unos\\n            minutos. Â¿La pÃ¡gina sigue sin funcionar? EnvÃ\\xadanos un mensaje breve a\\n            travÃ©s del botÃ³n \"report\" y comprobaremos el problema.\\n          </p>\\n          <a class=\"send-mail\">Enviar informe de error</a>\\n        </section>\\n\\n        <section lang=\"fi\">\\n          <h1>Error page. Never out of fashion.</h1>\\n          <p class=\"reference\">ID-viite: 18.d6fa7168.1616708961.2091d81</p>\\n          <p>\\n            Pahoittelemme, jokin meni vikaan verkkosivullamme. YritÃ¤ ladata sivu\\n            hetken kuluttua uudelleen. MikÃ¤li sivu ei edelleenkÃ¤Ã¤n toimi, lÃ¤hetÃ¤\\n            meille virheilmoitus, jotta voimme selvittÃ¤Ã¤ asiaa.\\n          </p>\\n          <a class=\"send-mail\">LÃ¤hetÃ¤ virheilmoitus</a>\\n        </section>\\n\\n        <section lang=\"fr\">\\n          <h1>Une erreur est survenue. Eh oui, Ã§a arrive encore !</h1>\\n          <p class=\"reference\">NumÃ©ro de rÃ©fÃ©rence : 18.d6fa7168.1616708961.2091d81</p>\\n          <p>\\n            Notre site est momentanÃ©ment indisponible. Essayez de rafraÃ®chir la\\n            page d\\'ici une Ã\\xa0 deux minutes. Cela n\\'a pas fonctionnÃ© ?\\n            Envoyez-nous un message en utilisant le bouton \"Rapport d\\'erreur\" et\\n            nous essaierons d\\'identifier la cause du problÃ¨me.\\n          </p>\\n          <a class=\"send-mail\">Envoyer un rapport d\\'erreur</a>\\n        </section>\\n\\n        <section lang=\"nl\">\\n          <h1>Ah, errorpagina\\'s. Ze zullen altijd blijven bestaan.</h1>\\n          <p class=\"reference\">ID-referentie: 18.d6fa7168.1616708961.2091d81</p>\\n          <p>\\n            Onze website doet het even niet. Je kent de procedure waarschijnlijk\\n            al: probeer over een paar minuten de pagina opnieuw te laden. Geen\\n            beterschap in zicht? Stuur ons een berichtje via de error-knop en we\\n            zullen proberen om het probleem zo snel mogelijk op te lossen.\\n          </p>\\n          <a class=\"send-mail\">Stuur error-rapport</a>\\n        </section>\\n\\n        <section lang=\"no\">\\n          <h1>Det er bare Ã¥ innse... Feilsider gÃ¥r aldri av moten.</h1>\\n          <p class=\"reference\">Referanse-ID: 18.d6fa7168.1616708961.2091d81</p>\\n          <p>\\n            VÃ¥r nettside er dessverre ikke tilgjengelig for Ã¸yeblikket. Du vet\\n            sikkert hva du mÃ¥ gjÃ¸re; vent noen minutter og oppdater siden.\\n            Virker det fremdeles ikke? Send oss en kort melding ved Ã¥ trykke pÃ¥\\n            knappen under, og vi skal se hva vi kan gjÃ¸re.\\n          </p>\\n          <a class=\"send-mail\">Send feilmelding</a>\\n        </section>\\n\\n        <section lang=\"pl\">\\n          <h1>Niestety, strony z bÅ\\x82Ä\\x99dami nigdy nie wyjdÄ\\x85 z mody.</h1>\\n          <p class=\"reference\">Numer referencyjny: 18.d6fa7168.1616708961.2091d81</p>\\n          <p>\\n            Strona jest w tym momencie niedostÄ\\x99pna. SprÃ³buj odÅ\\x9bwieÅ¼yÄ\\x87 jÄ\\x85 za\\n            kilka minut. WciÄ\\x85Å¼ nie dziaÅ\\x82a? Zaraportuj bÅ\\x82Ä\\x85d, przyjrzymy siÄ\\x99 mu!\\n          </p>\\n          <a class=\"send-mail\">Zaraportuj bÅ\\x82Ä\\x85d</a>\\n        </section>\\n\\n        <section lang=\"sv\">\\n          <h1>Felsidor verkar aldrig gÃ¥ ur modet.</h1>\\n          <p class=\"reference\">Reference ID: 18.d6fa7168.1616708961.2091d81</p>\\n          <p>\\n            VÃ¥r hemsida Ã¤r tyvÃ¤rr inte tillgÃ¤nglig just nu. Du vet nog redan vad\\n            nÃ¤sta steg Ã¤r: Prova att uppdatera sidan om en minut eller tvÃ¥.\\n            Fungerar det fortfarande inte? Meddela oss genom att klicka pÃ¥\\n            knappen fÃ¶r felrapportering, sÃ¥ tittar vi nÃ¤rmare pÃ¥ det.\\n          </p>\\n          <a class=\"send-mail\">Skicka felrapport</a>\\n        </section>\\n\\n        <section lang=\"da\">\\n          <h1>Lad os indse det... Fejlsider gÃ¥r aldrig af mode.</h1>\\n          <p class=\"reference\">Reference ID: 18.d6fa7168.1616708961.2091d81</p>\\n          <p>\\n            Zalando.dk er ikke tilgÃ¦ngelig lige nu. Du kender sikkert rutinen\\n            efterhÃ¥nden: PrÃ¸v at genopfriske siden om et minut eller to. Virker\\n            siden stadig ikke? Giv os besked via knappen nedenfor og vi tager et\\n            kig pÃ¥ sagen.\\n          </p>\\n          <a class=\"send-mail\">SEND FEJLRAPPORT</a>\\n        </section>\\n\\n        <section lang=\"cz\">\\n          <h1>Å\\x98eknÄ\\x9bme si to upÅ\\x99Ã\\xadmnÄ\\x9b, chybnÃ© strÃ¡nky nikdy nevyjdou z mÃ³dy.</h1>\\n          <p class=\"reference\">ReferenÄ\\x8dnÃ\\xad id: 18.d6fa7168.1616708961.2091d81</p>\\n          <p>\\n            NaÅ¡e webovÃ¡ strÃ¡nka je doÄ\\x8dasnÄ\\x9b nedostupnÃ¡. Asi vÃ\\xadte, jak postupovat\\n            dÃ¡l: za 1-2 minuty zkustÄ\\x9b strÃ¡nku aktualizovat. PoÅ\\x99Ã¡d nic? KliknÄ\\x9bte\\n            na tlaÄ\\x8dÃ\\xadtko nÃ\\xadÅ¾e a poÅ¡lete nÃ¡m krÃ¡tkou zprÃ¡vu. My se pokusÃ\\xadme\\n            zjistit pÅ\\x99Ã\\xadÄ\\x8dinu zÃ¡vady.\\n          </p>\\n          <a class=\"send-mail\">Zaslat hlÃ¡Å¡enÃ\\xad o chybÄ\\x9b</a>\\n        </section>\\n      </main>\\n    </div>\\n  </body>\\n  <script type=\"text/javascript\">\\n    var content = {\\n      en: {\\n        subject:\\n          \"I can\\'t access your website. Reference ID 18.d6fa7168.1616708961.2091d81\",\\n        body:\\n          \"Hello%20Zalando%20team%2C%0D%0A%0D%0AI%27ve%20waited%20a%20little%20while%20and%20still%20had%20no%20luck%20accessing%20your%20website.%20Here%20is%20the%20reference%20ID%20from%20the%20error%20page%3A%20%0D%0A%0D%0A18.d6fa7168.1616708961.2091d81%0D%0A%0D%0AThanks%20for%20looking%20into%20this%2C%0D%0A%0D%0A%5BYour%20Name%5D%0D%0A%0D%0A%E2%80%93%20Info%20for%20the%20Zalando%20Customer%20Care%20team%20%2F%20Info%20f%C3%BCr%20den%20Zalando%20Kundenservice%20%E2%80%93\"\\n      },\\n      de: {\\n        subject:\\n          \"Ich kann Eure Website partout nicht erreichen. Referenz-ID 18.d6fa7168.1616708961.2091d81\",\\n        body:\\n          \"Hallo%20Zalando-Team%2C%0D%0A%0D%0Aauch%20mit%20Geduld%20und%20Spucke%20will%20sich%20Eure%20Website%20nicht%20f%C3%BCr%20mich%20%C3%B6ffnen.%20Hier%20ist%20die%20Referenz-ID%20von%20der%20Fehlerseite%3A%0D%0A%0D%0A18.d6fa7168.1616708961.2091d81%0D%0A%0D%0AViele%20Gr%C3%BC%C3%9Fe%0D%0A%0D%0A%5BDein%20Name%5D%0D%0A%0D%0A------------------------------------------------------------------------------%0D%0A%0D%0AHello%20Zalando%20team%2C%0D%0A%0D%0AI%27ve%20waited%20a%20little%20while%20and%20still%20had%20no%20luck%20accessing%20your%20website.%20Here%20is%20the%20reference%20ID%20from%20the%20error%20page%3A%20%0D%0A%0D%0A18.d6fa7168.1616708961.2091d81%0D%0A%0D%0AThanks%20for%20looking%20into%20this%2C%0D%0A%0D%0A%E2%80%93%20Info%20for%20the%20Zalando%20Customer%20Care%20team%20%2F%20Info%20f%C3%BCr%20den%20Zalando%20Kundenservice%20%E2%80%93\"\\n      },\\n      it: {\\n        subject:\\n          \"Non Ã¨ possibile accedere al sito. ID del riferimento: 18.d6fa7168.1616708961.2091d81\",\\n        body:\\n          \"Ciao%20Team%20Zalando%2C%0D%0A%0D%0AVi%20segnalo%20che%20c%27%C3%A8%20un%20problema%20nell%27accesso%20al%20vostro%20sito.%20%0D%0AEcco%20l%27ID%20di%20riferimento%3A%2018.d6fa7168.1616708961.2091d81%0D%0A%0D%0AGrazie%20del%20supporto%21%0D%0A%5BIl%20tuo%20nome%5D%0D%0A------------------------------------------------------------------------------%0D%0A%0D%0AHello%20Zalando%20team%2C%0D%0A%0D%0AI%27ve%20waited%20a%20little%20while%20and%20still%20had%20no%20luck%20accessing%20your%20website.%20Here%20is%20the%20reference%20ID%20from%20the%20error%20page%3A%20%0D%0A%0D%0A18.d6fa7168.1616708961.2091d81%0D%0A%0D%0AThanks%20for%20looking%20into%20this%2C%0D%0A%0D%0A%E2%80%93%20Info%20for%20the%20Zalando%20Customer%20Care%20team%20%2F%20Contatti%20customer%20care%20Zalando%20%E2%80%93\"\\n      },\\n      ch: {\\n        subject:\\n          \"Non Ã¨ possibile accedere al sito. ID del riferimento: 18.d6fa7168.1616708961.2091d81\",\\n        body:\\n          \"Ciao%20Team%20Zalando%2C%0D%0A%0D%0AVi%20segnalo%20che%20c%27%C3%A8%20un%20problema%20nell%27accesso%20al%20vostro%20sito.%20%0D%0AEcco%20l%27ID%20di%20riferimento%3A%2018.d6fa7168.1616708961.2091d81%0D%0A%0D%0AGrazie%20del%20supporto%21%0D%0A%5BIl%20tuo%20nome%5D%0D%0A------------------------------------------------------------------------------%0D%0A%0D%0AHello%20Zalando%20team%2C%0D%0A%0D%0AI%27ve%20waited%20a%20little%20while%20and%20still%20had%20no%20luck%20accessing%20your%20website.%20Here%20is%20the%20reference%20ID%20from%20the%20error%20page%3A%20%0D%0A%0D%0A18.d6fa7168.1616708961.2091d81%0D%0A%0D%0AThanks%20for%20looking%20into%20this%2C%0D%0A%0D%0A%E2%80%93%20Info%20for%20the%20Zalando%20Customer%20Care%20team%20%2F%20Contatti%20customer%20care%20Zalando%20%E2%80%93\"\\n      },\\n      es: {\\n        subject:\\n          \"No es posible acceder al sitio web. ID de referencia: 18.d6fa7168.1616708961.2091d81\",\\n        body:\\n          \"Hola%2C%20Zalando%3A%20%0D%0A%0D%0AOs%20escribo%20para%20se%C3%B1alar%20un%20problema%20de%20acceso%20a%20vuestra%20p%C3%A1gina.%20Aqu%C3%AD%20est%C3%A1%20el%20ID%20de%20referencia%3A%20%0D%0A%0D%0A18.d6fa7168.1616708961.2091d81%0D%0A%0D%0A%C2%A1Gracias%21%0D%0A%0D%0ATu%20nombre%0D%0A------------------------------------------------------------------------------%0D%0A%0D%0AHello%20Zalando%20team%2C%0D%0A%0D%0AI%27ve%20waited%20a%20little%20while%20and%20still%20had%20no%20luck%20accessing%20your%20website.%20Here%20is%20the%20reference%20ID%20from%20the%20error%20page%3A%20%0D%0A%0D%0A18.d6fa7168.1616708961.2091d81%0D%0A%0D%0AThanks%20for%20looking%20into%20this%2C%0D%0A%0D%0A%E2%80%93%20Info%20for%20the%20Zalando%20Customer%20Care%20team%20%2F%20Contacto%20Atenci%C3%B3n%20al%20Cliente%20de%20Zalando%20%E2%80%93\"\\n      },\\n      fi: {\\n        subject: \"Verkkosivunne ei toimi. ID-viite: 18.d6fa7168.1616708961.2091d81\",\\n        body:\\n          \"Hei%20Zalando%2C%0D%0A%0D%0Aolen%20yritt%C3%A4nyt%20ladata%20verkkosivuanne%2C%20mutta%20sivu%20ei%20toimi.%20T%C3%A4ss%C3%A4%20viitteeksi%20virheellisen%20sivun%20ID-numero%3A%20%0D%0A%0D%0A18.d6fa7168.1616708961.2091d81%20%0D%0A%0D%0AYst%C3%A4v%C3%A4llisin%20terveisin%2C%0D%0A%0D%0AOma%20nimi%0D%0A------------------------------------------------------------------------------%0D%0A%0D%0AHello%20Zalando%20team%2C%0D%0A%0D%0AI%27ve%20waited%20a%20little%20while%20and%20still%20had%20no%20luck%20accessing%20your%20website.%20Here%20is%20the%20reference%20ID%20from%20the%20error%20page%3A%20%0D%0A%0D%0A18.d6fa7168.1616708961.2091d81%0D%0A%0D%0AThanks%20for%20looking%20into%20this%2C%0D%0A%0D%0A%E2%80%93%20Info%20for%20the%20Zalando%20Customer%20Care%20team%20%2F%20Tiedoksi%20Zalandon%20asiakaspalveluun%20%20%E2%80%93\"\\n      },\\n      fr: {\\n        subject:\\n          \"Je n\\'arrive pas Ã\\xa0 accÃ©der au site web. Nu,Ã©ro de rÃ©fÃ©rence : 18.d6fa7168.1616708961.2091d81\",\\n        body:\\n          \"Ch%C3%A8re%20%C3%A9quipe%20Zalando%2C%20%0D%0A%0D%0AApr%C3%A8s%20avoir%20attendu%20un%20moment%2C%20je%20n%27arrive%20toujours%20pas%20%C3%A0%20acc%C3%A9der%20au%20site%20web.%20Voici%20le%20num%C3%A9ro%20de%20r%C3%A9f%C3%A9rence%20de%20la%20page%20d%27erreur%20%3A%0D%0A%0D%0A18.d6fa7168.1616708961.2091d81%0D%0A%0D%0AMerci%20pour%20votre%20aide%2C%0D%0A%0D%0AVotre%20nom%0D%0A------------------------------------------------------------------------------%0D%0A%0D%0AHello%20Zalando%20team%2C%0D%0A%0D%0AI%27ve%20waited%20a%20little%20while%20and%20still%20had%20no%20luck%20accessing%20your%20website.%20Here%20is%20the%20reference%20ID%20from%20the%20error%20page%3A%20%0D%0A%0D%0A18.d6fa7168.1616708961.2091d81%0D%0A%0D%0AThanks%20for%20looking%20into%20this%2C%0D%0A%0D%0A%E2%80%93%20Info%20pour%20l%27%C3%A9quipe%20Service%20Clients%20%2F%20Info%20for%20the%20Zalando%20Customer%20Care%20team%20%E2%80%93%20\"\\n      },\\n      nl: {\\n        subject:\\n          \"Ik krijg geen toegang tot de website. ID-referentie 18.d6fa7168.1616708961.2091d81\",\\n        body:\\n          \"Hallo%20Zalando-team%2C%20%0D%0A%0D%0AIk%20heb%20een%20aantal%20minuten%20gewacht%2C%20maar%20ik%20krijg%20geen%20toegang%20tot%20de%20website.%20Hier%20is%20de%20ID-referentie%20van%20de%20error-pagina%3A%20%0D%0A%0D%0A18.d6fa7168.1616708961.2091d81%0D%0A%0D%0ABedankt%20voor%20de%20hulp%2C%20%0D%0AJouw%20naam%0D%0A------------------------------------------------------------------------------%0D%0A%0D%0AHello%20Zalando%20team%2C%0D%0A%0D%0AI%27ve%20waited%20a%20little%20while%20and%20still%20had%20no%20luck%20accessing%20your%20website.%20Here%20is%20the%20reference%20ID%20from%20the%20error%20page%3A%20%0D%0A%0D%0A18.d6fa7168.1616708961.2091d81%0D%0A%0D%0AThanks%20for%20looking%20into%20this%2C%0D%0A%E2%80%93%20Info%20voor%20de%20Zalando-klantenservice%20%2F%20Info%20for%20the%20Zalando%20Customer%20Care%20team%20%E2%80%93\"\\n      },\\n      no: {\\n        subject:\\n          \"Jeg finner ikke nettsiden. Referanse-ID 18.d6fa7168.1616708961.2091d81\",\\n        body:\\n          \"Hei%20Zalando%2C%0D%0A%0D%0AJeg%20har%20ventet%20en%20stund%2C%20men%20kan%20fremdeles%20ikke%20finne%20nettsiden%20deres.%20Her%20er%20referanse-ID%20fra%20feilsiden%3A%0D%0A%0D%0A18.d6fa7168.1616708961.2091d81%0D%0A%0D%0AP%C3%A5%20forh%C3%A5nd%20takk%20for%20hjelpen.%0D%0A%0D%0ADitt%20navn%0D%0A------------------------------------------------------------------------------%0D%0A%0D%0AHello%20Zalando%20team%2C%0D%0A%0D%0AI%27ve%20waited%20a%20little%20while%20and%20still%20had%20no%20luck%20accessing%20your%20website.%20Here%20is%20the%20reference%20ID%20from%20the%20error%20page%3A%20%0D%0A%0D%0A18.d6fa7168.1616708961.2091d81%0D%0A%0D%0AThanks%20for%20looking%20into%20this%2C%0D%0A%0D%0A%E2%80%93%20Info%20til%20Zalandos%20kundetjeneste%20%2F%20Info%20for%20the%20Zalando%20Customer%20Care%20team%20%E2%80%93%0D%0A\"\\n      },\\n      sv: {\\n        subject:\\n          \"Jag kommer inte Ã¥t hemsidan. Reference ID 18.d6fa7168.1616708961.2091d81\",\\n        body:\\n          \"Hejsan%20Zalando-teamet%2C%0D%0A%0D%0AJag%20har%20v%C3%A4ntat%20en%20stund%20men%20kan%20fortfarande%20inte%20komma%20%C3%A5t%20er%20hemsida.%20H%C3%A4r%20%C3%A4r%20referens-ID%20fr%C3%A5n%20felsidan%3A%20%0D%0A%0D%0A18.d6fa7168.1616708961.2091d81%0D%0A%0D%0ATack%20p%C3%A5%20f%C3%B6rhand%2C%0D%0A%0D%0ADitt%20namn%0D%0A------------------------------------------------------------------------------%0D%0A%0D%0AHello%20Zalando%20team%2C%0D%0A%0D%0AI%27ve%20waited%20a%20little%20while%20and%20still%20had%20no%20luck%20accessing%20your%20website.%20Here%20is%20the%20reference%20ID%20from%20the%20error%20page%3A%20%0D%0A%0D%0A18.d6fa7168.1616708961.2091d81%0D%0A%0D%0AThanks%20for%20looking%20into%20this%2C%0D%0A%0D%0A%E2%80%93%20Info%20till%20Zalandos%20kundtj%C3%A4nst%20%2F%20Info%20for%20the%20Zalando%20Customer%20Care%20team%20%E2%80%93%0D%0A\"\\n      },\\n      da: {\\n        subject: \"Jeg kan ikke tilgÃ¥ Zalando.dk.\",\\n        body:\\n          \"Hej%20Zalando%2C%0D%0A%0D%0AJeg%20har%20ventet%20et%20stykke%20tid%2C%20og%20kan%20stadig%20ikke%20tilg%C3%A5%20jeres%20side.%20Her%20er%20reference-ID%27et%20fra%20fejlsiden%3A%0D%0A%0D%0A18.d6fa7168.1616708961.2091d81%0D%0A%0D%0ATak%20fordi%20I%20ser%20p%C3%A5%20sagen%21%0D%0A%0D%0ADit%20navn%0D%0A------------------------------------------------------------------------------%0D%0A%0D%0AHello%20Zalando%20team%2C%0D%0A%0D%0AI%27ve%20waited%20a%20little%20while%20and%20still%20had%20no%20luck%20accessing%20your%20website.%20Here%20is%20the%20reference%20ID%20from%20the%20error%20page%3A%20%0D%0A%0D%0A18.d6fa7168.1616708961.2091d81%0D%0A%0D%0AThanks%20for%20looking%20into%20this%2C%0D%0A%0D%0A%E2%80%93%20Info%20til%20Zalandos%20Customer%20Care%20team%20%2F%20Info%20for%20the%20Zalando%20Customer%20Care%20team%20%E2%80%93%0D%0A\"\\n      },\\n      pl: {\\n        subject:\\n          \"Nie mogÄ\\x99 wejÅ\\x9bÄ\\x87 na stronÄ\\x99. Numer referencyjny 18.d6fa7168.1616708961.2091d81\",\\n        body:\\n          \"Cze%C5%9B%C4%87%20Zalando%21%0D%0A%0D%0ANiestety%20mam%20problem%20z%20dost%C4%99pem%20do%20Waszej%20strony.%20Przesy%C5%82am%20numer%20referencyjny%20b%C5%82%C4%99du%3A%0D%0A%0D%0A18.d6fa7168.1616708961.2091d81%0D%0A%0D%0ADzi%C4%99kuj%C4%99%20za%20pomoc%2C%0D%0A%0D%0ATwoje%20imi%C4%99%0D%0A%0D%0A------------------------------------------------------------------------------%0D%0A%0D%0AHello%20Zalando%20team%2C%0D%0A%0D%0AI%27ve%20waited%20a%20little%20while%20and%20still%20had%20no%20luck%20accessing%20your%20website.%20Here%20is%20the%20reference%20ID%20from%20the%20error%20page%3A%20%0D%0A%0D%0A18.d6fa7168.1616708961.2091d81%0D%0A%0D%0AThanks%20for%20looking%20into%20this%2C%0D%0A%0D%0A-%20Informacja%20dla%20zespo%C5%82u%20Obs%C5%82ugi%20Klienta%20Zalando%20%2F%20Info%20for%20the%20Zalando%20Customer%20Care%20team%20-%20%0D%0A\"\\n      },\\n      cz: {\\n        subject:\\n          \"Nemohu naÄ\\x8dÃ\\xadst VaÅ¡i strÃ¡nku. ReferenÄ\\x8dnÃ\\xad id: 18.d6fa7168.1616708961.2091d81\",\\n        body:\\n          \"Dobr%C3%BD%20den%20t%C3%BDme%20Zalando%2C%0D%0A%0D%0Achv%C3%ADli%20jsem%20%C4%8Dekal%2Fa%2C%20ale%20st%C3%A1le%20se%20mi%20nepoda%C5%99ilo%20na%C4%8D%C3%ADst%20Va%C5%A1i%20str%C3%A1nku.%20Zde%20je%20referen%C4%8Dn%C3%AD%20ID%20%C4%8D%C3%ADslo%20z%20chybn%C3%A9%20str%C3%A1nky%3A%0D%0A%0D%0A18.d6fa7168.1616708961.2091d81%0D%0A%0D%0AP%C5%99edem%20d%C4%9Bkuji%20za%20prov%C4%9B%C5%99en%C3%AD.%0D%0A%0D%0AS%20pozdravem%2C%0D%0A%0D%0AVa%C5%A1e%20jm%C3%A9no%0D%0A%0D%0A------------------------------------------------------------------------------%0D%0A%0D%0AHello%20Zalando%20team%2C%0D%0A%0D%0AI%27ve%20waited%20a%20little%20while%20and%20still%20had%20no%20luck%20accessing%20your%20website.%20Here%20is%20the%20reference%20ID%20from%20the%20error%20page%3A%20%0D%0A%0D%0A18.d6fa7168.1616708961.2091d81%0D%0A%0D%0AThanks%20for%20looking%20into%20this%2C%0D%0A%0D%0A%E2%80%93%20Informace%20pro%20z%C3%A1kaznick%C3%BD%20servis%20Zalando%20%2F%20Info%20for%20the%20Zalando%20Customer%20Care%20team%20%E2%80%93%0D%0A\"\\n      }\\n    };\\n\\n    function sendMail() {\\n      var email = content[getLangCode()];\\n      window.location.href =\\n        \"mai\"+\"lt\"+\"o\"+String.fromCharCode(58)+\"shop\"+String.fromCharCode(45)+\"unreachable\"+String.fromCharCode(64)+\"zalando\"+String.fromCharCode(46)+\"de\"+String.fromCharCode(63)+\"sub\"+\"ject=\" +\\n        encodeURIComponent(email.subject) +\\n        \"&body=\" +\\n        email.body;\\n    }\\n\\n    function getLangCode() {\\n      return (navigator.language || \"de-DE\").split(\"-\")[0];\\n    }\\n\\n    document.body.addEventListener(\"click\", function(event) {\\n      if (event.target.classList.contains(\"send-mail\")) {\\n        sendMail();\\n      }\\n    });\\n    document.addEventListener(\"DOMContentLoaded\", function() {\\n      var langCode = getLangCode();\\n      var selector = \"section[lang|=\" + langCode + \"]\";\\n      var section =\\n        document.querySelector(selector) || document.querySelector(\"de\");\\n      section.style.display = \"block\";\\n    });\\n  </script>\\n</html>\\n'"
      ]
     },
     "execution_count": 18,
     "metadata": {},
     "output_type": "execute_result"
    }
   ],
   "source": [
    "resp.text"
   ]
  },
  {
   "cell_type": "code",
   "execution_count": 19,
   "metadata": {},
   "outputs": [
    {
     "ename": "JSONDecodeError",
     "evalue": "Expecting value: line 1 column 1 (char 0)",
     "output_type": "error",
     "traceback": [
      "\u001b[0;31m---------------------------------------------------------------------------\u001b[0m",
      "\u001b[0;31mJSONDecodeError\u001b[0m                           Traceback (most recent call last)",
      "\u001b[0;32m<ipython-input-19-23e810f2ed99>\u001b[0m in \u001b[0;36m<module>\u001b[0;34m\u001b[0m\n\u001b[0;32m----> 1\u001b[0;31m \u001b[0mresp\u001b[0m\u001b[0;34m.\u001b[0m\u001b[0mjson\u001b[0m\u001b[0;34m(\u001b[0m\u001b[0;34m)\u001b[0m\u001b[0;34m\u001b[0m\u001b[0;34m\u001b[0m\u001b[0m\n\u001b[0m",
      "\u001b[0;32m~/opt/anaconda3/lib/python3.8/site-packages/requests/models.py\u001b[0m in \u001b[0;36mjson\u001b[0;34m(self, **kwargs)\u001b[0m\n\u001b[1;32m    896\u001b[0m                     \u001b[0;31m# used.\u001b[0m\u001b[0;34m\u001b[0m\u001b[0;34m\u001b[0m\u001b[0;34m\u001b[0m\u001b[0m\n\u001b[1;32m    897\u001b[0m                     \u001b[0;32mpass\u001b[0m\u001b[0;34m\u001b[0m\u001b[0;34m\u001b[0m\u001b[0m\n\u001b[0;32m--> 898\u001b[0;31m         \u001b[0;32mreturn\u001b[0m \u001b[0mcomplexjson\u001b[0m\u001b[0;34m.\u001b[0m\u001b[0mloads\u001b[0m\u001b[0;34m(\u001b[0m\u001b[0mself\u001b[0m\u001b[0;34m.\u001b[0m\u001b[0mtext\u001b[0m\u001b[0;34m,\u001b[0m \u001b[0;34m**\u001b[0m\u001b[0mkwargs\u001b[0m\u001b[0;34m)\u001b[0m\u001b[0;34m\u001b[0m\u001b[0;34m\u001b[0m\u001b[0m\n\u001b[0m\u001b[1;32m    899\u001b[0m \u001b[0;34m\u001b[0m\u001b[0m\n\u001b[1;32m    900\u001b[0m     \u001b[0;34m@\u001b[0m\u001b[0mproperty\u001b[0m\u001b[0;34m\u001b[0m\u001b[0;34m\u001b[0m\u001b[0m\n",
      "\u001b[0;32m~/opt/anaconda3/lib/python3.8/json/__init__.py\u001b[0m in \u001b[0;36mloads\u001b[0;34m(s, cls, object_hook, parse_float, parse_int, parse_constant, object_pairs_hook, **kw)\u001b[0m\n\u001b[1;32m    355\u001b[0m             \u001b[0mparse_int\u001b[0m \u001b[0;32mis\u001b[0m \u001b[0;32mNone\u001b[0m \u001b[0;32mand\u001b[0m \u001b[0mparse_float\u001b[0m \u001b[0;32mis\u001b[0m \u001b[0;32mNone\u001b[0m \u001b[0;32mand\u001b[0m\u001b[0;34m\u001b[0m\u001b[0;34m\u001b[0m\u001b[0m\n\u001b[1;32m    356\u001b[0m             parse_constant is None and object_pairs_hook is None and not kw):\n\u001b[0;32m--> 357\u001b[0;31m         \u001b[0;32mreturn\u001b[0m \u001b[0m_default_decoder\u001b[0m\u001b[0;34m.\u001b[0m\u001b[0mdecode\u001b[0m\u001b[0;34m(\u001b[0m\u001b[0ms\u001b[0m\u001b[0;34m)\u001b[0m\u001b[0;34m\u001b[0m\u001b[0;34m\u001b[0m\u001b[0m\n\u001b[0m\u001b[1;32m    358\u001b[0m     \u001b[0;32mif\u001b[0m \u001b[0mcls\u001b[0m \u001b[0;32mis\u001b[0m \u001b[0;32mNone\u001b[0m\u001b[0;34m:\u001b[0m\u001b[0;34m\u001b[0m\u001b[0;34m\u001b[0m\u001b[0m\n\u001b[1;32m    359\u001b[0m         \u001b[0mcls\u001b[0m \u001b[0;34m=\u001b[0m \u001b[0mJSONDecoder\u001b[0m\u001b[0;34m\u001b[0m\u001b[0;34m\u001b[0m\u001b[0m\n",
      "\u001b[0;32m~/opt/anaconda3/lib/python3.8/json/decoder.py\u001b[0m in \u001b[0;36mdecode\u001b[0;34m(self, s, _w)\u001b[0m\n\u001b[1;32m    335\u001b[0m \u001b[0;34m\u001b[0m\u001b[0m\n\u001b[1;32m    336\u001b[0m         \"\"\"\n\u001b[0;32m--> 337\u001b[0;31m         \u001b[0mobj\u001b[0m\u001b[0;34m,\u001b[0m \u001b[0mend\u001b[0m \u001b[0;34m=\u001b[0m \u001b[0mself\u001b[0m\u001b[0;34m.\u001b[0m\u001b[0mraw_decode\u001b[0m\u001b[0;34m(\u001b[0m\u001b[0ms\u001b[0m\u001b[0;34m,\u001b[0m \u001b[0midx\u001b[0m\u001b[0;34m=\u001b[0m\u001b[0m_w\u001b[0m\u001b[0;34m(\u001b[0m\u001b[0ms\u001b[0m\u001b[0;34m,\u001b[0m \u001b[0;36m0\u001b[0m\u001b[0;34m)\u001b[0m\u001b[0;34m.\u001b[0m\u001b[0mend\u001b[0m\u001b[0;34m(\u001b[0m\u001b[0;34m)\u001b[0m\u001b[0;34m)\u001b[0m\u001b[0;34m\u001b[0m\u001b[0;34m\u001b[0m\u001b[0m\n\u001b[0m\u001b[1;32m    338\u001b[0m         \u001b[0mend\u001b[0m \u001b[0;34m=\u001b[0m \u001b[0m_w\u001b[0m\u001b[0;34m(\u001b[0m\u001b[0ms\u001b[0m\u001b[0;34m,\u001b[0m \u001b[0mend\u001b[0m\u001b[0;34m)\u001b[0m\u001b[0;34m.\u001b[0m\u001b[0mend\u001b[0m\u001b[0;34m(\u001b[0m\u001b[0;34m)\u001b[0m\u001b[0;34m\u001b[0m\u001b[0;34m\u001b[0m\u001b[0m\n\u001b[1;32m    339\u001b[0m         \u001b[0;32mif\u001b[0m \u001b[0mend\u001b[0m \u001b[0;34m!=\u001b[0m \u001b[0mlen\u001b[0m\u001b[0;34m(\u001b[0m\u001b[0ms\u001b[0m\u001b[0;34m)\u001b[0m\u001b[0;34m:\u001b[0m\u001b[0;34m\u001b[0m\u001b[0;34m\u001b[0m\u001b[0m\n",
      "\u001b[0;32m~/opt/anaconda3/lib/python3.8/json/decoder.py\u001b[0m in \u001b[0;36mraw_decode\u001b[0;34m(self, s, idx)\u001b[0m\n\u001b[1;32m    353\u001b[0m             \u001b[0mobj\u001b[0m\u001b[0;34m,\u001b[0m \u001b[0mend\u001b[0m \u001b[0;34m=\u001b[0m \u001b[0mself\u001b[0m\u001b[0;34m.\u001b[0m\u001b[0mscan_once\u001b[0m\u001b[0;34m(\u001b[0m\u001b[0ms\u001b[0m\u001b[0;34m,\u001b[0m \u001b[0midx\u001b[0m\u001b[0;34m)\u001b[0m\u001b[0;34m\u001b[0m\u001b[0;34m\u001b[0m\u001b[0m\n\u001b[1;32m    354\u001b[0m         \u001b[0;32mexcept\u001b[0m \u001b[0mStopIteration\u001b[0m \u001b[0;32mas\u001b[0m \u001b[0merr\u001b[0m\u001b[0;34m:\u001b[0m\u001b[0;34m\u001b[0m\u001b[0;34m\u001b[0m\u001b[0m\n\u001b[0;32m--> 355\u001b[0;31m             \u001b[0;32mraise\u001b[0m \u001b[0mJSONDecodeError\u001b[0m\u001b[0;34m(\u001b[0m\u001b[0;34m\"Expecting value\"\u001b[0m\u001b[0;34m,\u001b[0m \u001b[0ms\u001b[0m\u001b[0;34m,\u001b[0m \u001b[0merr\u001b[0m\u001b[0;34m.\u001b[0m\u001b[0mvalue\u001b[0m\u001b[0;34m)\u001b[0m \u001b[0;32mfrom\u001b[0m \u001b[0;32mNone\u001b[0m\u001b[0;34m\u001b[0m\u001b[0;34m\u001b[0m\u001b[0m\n\u001b[0m\u001b[1;32m    356\u001b[0m         \u001b[0;32mreturn\u001b[0m \u001b[0mobj\u001b[0m\u001b[0;34m,\u001b[0m \u001b[0mend\u001b[0m\u001b[0;34m\u001b[0m\u001b[0;34m\u001b[0m\u001b[0m\n",
      "\u001b[0;31mJSONDecodeError\u001b[0m: Expecting value: line 1 column 1 (char 0)"
     ]
    }
   ],
   "source": [
    "resp.json()"
   ]
  },
  {
   "cell_type": "markdown",
   "metadata": {},
   "source": [
    "En este caso también nos da el error de Zalando que tenemos algunos, a pesar de obtener un 200 en status_code. En el otro notebook hice un ejercicio similar de extraer información de otra web con API."
   ]
  },
  {
   "cell_type": "markdown",
   "metadata": {},
   "source": [
    "## Bonus\n",
    "\n",
    "Extract the following information from the data:\n",
    "\n",
    "* The trending brand.\n",
    "\n",
    "* The product(s) with the highest discount.\n",
    "\n",
    "* The sum of discounts of all goods (sum_discounted_prices divided by sum_original_prices)."
   ]
  },
  {
   "cell_type": "code",
   "execution_count": null,
   "metadata": {
    "collapsed": true
   },
   "outputs": [],
   "source": [
    "# your code here"
   ]
  }
 ],
 "metadata": {
  "kernelspec": {
   "display_name": "Python 3",
   "language": "python",
   "name": "python3"
  },
  "language_info": {
   "codemirror_mode": {
    "name": "ipython",
    "version": 3
   },
   "file_extension": ".py",
   "mimetype": "text/x-python",
   "name": "python",
   "nbconvert_exporter": "python",
   "pygments_lexer": "ipython3",
   "version": "3.8.5"
  },
  "toc": {
   "base_numbering": 1,
   "nav_menu": {},
   "number_sections": true,
   "sideBar": true,
   "skip_h1_title": false,
   "title_cell": "Table of Contents",
   "title_sidebar": "Contents",
   "toc_cell": false,
   "toc_position": {},
   "toc_section_display": true,
   "toc_window_display": false
  },
  "varInspector": {
   "cols": {
    "lenName": 16,
    "lenType": 16,
    "lenVar": 40
   },
   "kernels_config": {
    "python": {
     "delete_cmd_postfix": "",
     "delete_cmd_prefix": "del ",
     "library": "var_list.py",
     "varRefreshCmd": "print(var_dic_list())"
    },
    "r": {
     "delete_cmd_postfix": ") ",
     "delete_cmd_prefix": "rm(",
     "library": "var_list.r",
     "varRefreshCmd": "cat(var_dic_list()) "
    }
   },
   "types_to_exclude": [
    "module",
    "function",
    "builtin_function_or_method",
    "instance",
    "_Feature"
   ],
   "window_display": false
  }
 },
 "nbformat": 4,
 "nbformat_minor": 2
}
